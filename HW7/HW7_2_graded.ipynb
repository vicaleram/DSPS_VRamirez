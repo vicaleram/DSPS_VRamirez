{
 "cells": [
  {
   "cell_type": "markdown",
   "metadata": {
    "colab_type": "text",
    "id": "view-in-github"
   },
   "source": [
    "<a href=\"https://colab.research.google.com/github/vicaleram/DSPS_VRamirez/blob/master/HW7/HW7VRAMIREZPart1.ipynb\" target=\"_parent\"><img src=\"https://colab.research.google.com/assets/colab-badge.svg\" alt=\"Open In Colab\"/></a>"
   ]
  },
  {
   "cell_type": "markdown",
   "metadata": {
    "colab_type": "text",
    "id": "WAj0ohqHCdHn"
   },
   "source": [
    "# Written by FBB for DSPS 2019\n",
    "# HW 7"
   ]
  },
  {
   "cell_type": "markdown",
   "metadata": {
    "colab_type": "text",
    "id": "_uHe9QuoL3-w"
   },
   "source": [
    "# **PART** I Due Tuesday 10/22 at midnight"
   ]
  },
  {
   "cell_type": "markdown",
   "metadata": {
    "colab_type": "text",
    "id": "VuBno3grNpTJ"
   },
   "source": [
    "Read in the abstract, first paragaph of the main text and page three of [Nam et al. 2018](https://arxiv.org/pdf/1811.10212.pdf) which should be sufficient to give you an idea of the problem context., "
   ]
  },
  {
   "cell_type": "markdown",
   "metadata": {
    "colab_type": "text",
    "id": "PQ2mJaQ6PjTK"
   },
   "source": [
    "# 1 Get the data \n",
    "from the Harvard Dataverse open data repository (well curated and organized open data repositories are a blessing in science and data science - they enable reproducibility! - This one is a great one.)\n",
    "\n",
    "Use ```wget``` and the link in the paper (page 17). YOu want the data for Fig 1 insert G.\n"
   ]
  },
  {
   "cell_type": "code",
   "execution_count": 179,
   "metadata": {
    "colab": {
     "base_uri": "https://localhost:8080/",
     "height": 35
    },
    "colab_type": "code",
    "id": "YpukgyLKBprL",
    "outputId": "617c5467-f464-415e-9dde-b88a6fb33751"
   },
   "outputs": [
    {
     "name": "stdout",
     "output_type": "stream",
     "text": [
      "Drive already mounted at /content/drive; to attempt to forcibly remount, call drive.mount(\"/content/drive\", force_remount=True).\n"
     ]
    }
   ],
   "source": [
    "from google.colab import drive\n",
    "drive.mount(\"/content/drive\")"
   ]
  },
  {
   "cell_type": "code",
   "execution_count": 0,
   "metadata": {
    "colab": {},
    "colab_type": "code",
    "id": "GYj0RUhVB-HY"
   },
   "outputs": [],
   "source": [
    "import numpy as np\n",
    "import pandas as pd\n",
    "import matplotlib.pyplot as pl\n",
    "import scipy as sp\n",
    "from scipy import stats\n",
    "import statsmodels.api as sm\n",
    "from statsmodels import graphics\n",
    "from statsmodels.formula import api as smf"
   ]
  },
  {
   "cell_type": "code",
   "execution_count": 0,
   "metadata": {
    "colab": {},
    "colab_type": "code",
    "id": "xwiAsX8pCq8K"
   },
   "outputs": [],
   "source": [
    "!wget https://dataverse.harvard.edu/api/access/datafile/:persistentId?persistentId=doi:10.7910/DVN/9QKJU2/WOMIZQ"
   ]
  },
  {
   "cell_type": "code",
   "execution_count": 0,
   "metadata": {
    "colab": {},
    "colab_type": "code",
    "id": "Q1aLrKUXC-wk"
   },
   "outputs": [],
   "source": [
    "mv :persistentId?persistentId=doi:10.7910%2FDVN%2F9QKJU2%2FWOMIZQ \"drive/My Drive/dsps\""
   ]
  },
  {
   "cell_type": "code",
   "execution_count": 0,
   "metadata": {
    "colab": {},
    "colab_type": "code",
    "id": "JrYrzpWxhnnw"
   },
   "outputs": [],
   "source": [
    "cd \"drive/My Drive/dsps\""
   ]
  },
  {
   "cell_type": "code",
   "execution_count": 0,
   "metadata": {
    "colab": {},
    "colab_type": "code",
    "id": "CaofypUl69ij"
   },
   "outputs": [],
   "source": [
    "mv ':persistentId?persistentId=doi:10.7910%2FDVN%2F9QKJU2%2FWOMIZQ' fig1datag.txt"
   ]
  },
  {
   "cell_type": "code",
   "execution_count": 186,
   "metadata": {
    "colab": {
     "base_uri": "https://localhost:8080/",
     "height": 35
    },
    "colab_type": "code",
    "id": "BakeyPWv7BYJ",
    "outputId": "7132e9b8-cfa5-45aa-8186-20acf9d7db61"
   },
   "outputs": [
    {
     "name": "stdout",
     "output_type": "stream",
     "text": [
      "\u001b[0m\u001b[01;34mdrive\u001b[0m/  \u001b[01;34msample_data\u001b[0m/\n"
     ]
    }
   ],
   "source": [
    "ls"
   ]
  },
  {
   "cell_type": "code",
   "execution_count": 0,
   "metadata": {
    "colab": {},
    "colab_type": "code",
    "id": "I1TBDHJd7RYC"
   },
   "outputs": [],
   "source": [
    "nam18 = pd.read_csv('drive/My Drive/dsps/fig1datag.txt',sep = '\\t', header = None)"
   ]
  },
  {
   "cell_type": "code",
   "execution_count": 188,
   "metadata": {
    "colab": {
     "base_uri": "https://localhost:8080/",
     "height": 202
    },
    "colab_type": "code",
    "id": "w-QCp-mnQ-HQ",
    "outputId": "6ca6c1a8-0f90-4a7d-ec29-574cfe9472ca"
   },
   "outputs": [
    {
     "data": {
      "text/html": [
       "<div>\n",
       "<style scoped>\n",
       "    .dataframe tbody tr th:only-of-type {\n",
       "        vertical-align: middle;\n",
       "    }\n",
       "\n",
       "    .dataframe tbody tr th {\n",
       "        vertical-align: top;\n",
       "    }\n",
       "\n",
       "    .dataframe thead th {\n",
       "        text-align: right;\n",
       "    }\n",
       "</style>\n",
       "<table border=\"1\" class=\"dataframe\">\n",
       "  <thead>\n",
       "    <tr style=\"text-align: right;\">\n",
       "      <th></th>\n",
       "      <th>0</th>\n",
       "      <th>1</th>\n",
       "      <th>2</th>\n",
       "      <th>3</th>\n",
       "      <th>4</th>\n",
       "      <th>5</th>\n",
       "      <th>6</th>\n",
       "      <th>7</th>\n",
       "      <th>8</th>\n",
       "      <th>9</th>\n",
       "      <th>10</th>\n",
       "    </tr>\n",
       "  </thead>\n",
       "  <tbody>\n",
       "    <tr>\n",
       "      <th>0</th>\n",
       "      <td>0.247</td>\n",
       "      <td>0.000000</td>\n",
       "      <td>0.114</td>\n",
       "      <td>--</td>\n",
       "      <td>1.998</td>\n",
       "      <td>-0.6682</td>\n",
       "      <td>0.236</td>\n",
       "      <td>--</td>\n",
       "      <td>NaN</td>\n",
       "      <td>0.0</td>\n",
       "      <td>0.000000</td>\n",
       "    </tr>\n",
       "    <tr>\n",
       "      <th>1</th>\n",
       "      <td>0.270</td>\n",
       "      <td>0.264431</td>\n",
       "      <td>0.291</td>\n",
       "      <td>--</td>\n",
       "      <td>3.008</td>\n",
       "      <td>0.0000</td>\n",
       "      <td>1.640</td>\n",
       "      <td>0</td>\n",
       "      <td>NaN</td>\n",
       "      <td>1.0</td>\n",
       "      <td>0.000163</td>\n",
       "    </tr>\n",
       "    <tr>\n",
       "      <th>2</th>\n",
       "      <td>0.290</td>\n",
       "      <td>0.247896</td>\n",
       "      <td>0.290</td>\n",
       "      <td>--</td>\n",
       "      <td>4.013</td>\n",
       "      <td>1.1170</td>\n",
       "      <td>2.500</td>\n",
       "      <td>0.2</td>\n",
       "      <td>NaN</td>\n",
       "      <td>1.5</td>\n",
       "      <td>0.007934</td>\n",
       "    </tr>\n",
       "    <tr>\n",
       "      <th>3</th>\n",
       "      <td>0.330</td>\n",
       "      <td>0.232262</td>\n",
       "      <td>0.330</td>\n",
       "      <td>--</td>\n",
       "      <td>5.006</td>\n",
       "      <td>2.4760</td>\n",
       "      <td>3.999</td>\n",
       "      <td>1.538</td>\n",
       "      <td>NaN</td>\n",
       "      <td>2.0</td>\n",
       "      <td>0.058189</td>\n",
       "    </tr>\n",
       "    <tr>\n",
       "      <th>4</th>\n",
       "      <td>0.379</td>\n",
       "      <td>0.233420</td>\n",
       "      <td>0.380</td>\n",
       "      <td>--</td>\n",
       "      <td>6.015</td>\n",
       "      <td>4.4130</td>\n",
       "      <td>5.000</td>\n",
       "      <td>2.866</td>\n",
       "      <td>NaN</td>\n",
       "      <td>2.5</td>\n",
       "      <td>0.198115</td>\n",
       "    </tr>\n",
       "  </tbody>\n",
       "</table>\n",
       "</div>"
      ],
      "text/plain": [
       "      0         1      2   3      4       5      6      7   8    9         10\n",
       "0  0.247  0.000000  0.114  --  1.998 -0.6682  0.236     -- NaN  0.0  0.000000\n",
       "1  0.270  0.264431  0.291  --  3.008  0.0000  1.640      0 NaN  1.0  0.000163\n",
       "2  0.290  0.247896  0.290  --  4.013  1.1170  2.500    0.2 NaN  1.5  0.007934\n",
       "3  0.330  0.232262  0.330  --  5.006  2.4760  3.999  1.538 NaN  2.0  0.058189\n",
       "4  0.379  0.233420  0.380  --  6.015  4.4130  5.000  2.866 NaN  2.5  0.198115"
      ]
     },
     "execution_count": 188,
     "metadata": {
      "tags": []
     },
     "output_type": "execute_result"
    }
   ],
   "source": [
    "nam18.head()"
   ]
  },
  {
   "cell_type": "markdown",
   "metadata": {
    "colab_type": "text",
    "id": "rzcxyFtgHoGi"
   },
   "source": [
    "# Data Wrangling and visualization\n",
    "\n"
   ]
  },
  {
   "cell_type": "markdown",
   "metadata": {
    "colab_type": "text",
    "id": "FcDCruzW6Aji"
   },
   "source": [
    "Write *a single line of code* that does the following (in whichever order you want):\n",
    "\n",
    "- removes all columns you do not need. \n",
    "- removes Nan values that appear in the relevant columns.\n",
    "- renames the columns according to the notation on in the paper figure (Fig 1 insert G)\n",
    "\n",
    "Writing this in a single line of code is the \"pythonic\" way to do it - meaning its in the conding style of the language. You can do it by concatenating methods that do wach step, like ```df.method1(...).method2(...).method3(...)```\n",
    "and as long as each method returns a dataframe another method can be appended. The code will be run left to right with the next method running on the dataframe returned by the previous one.\n",
    "\n",
    "Note that you can use latex notation for the lables, e.g.:\n",
    "```str=r\"\\Delta^2\"```\n",
    "would look like what you wrote when you look at the column names, but would look like \n",
    "\n",
    "$\\Delta^2$ \n",
    "\n",
    "in the plot label if plotting with df.plot()\n",
    "\n"
   ]
  },
  {
   "cell_type": "code",
   "execution_count": 189,
   "metadata": {
    "colab": {
     "base_uri": "https://localhost:8080/",
     "height": 202
    },
    "colab_type": "code",
    "id": "GBzhLtD5Q2-I",
    "outputId": "431a667a-bb2f-49a8-e53e-445db1742566"
   },
   "outputs": [
    {
     "data": {
      "text/html": [
       "<div>\n",
       "<style scoped>\n",
       "    .dataframe tbody tr th:only-of-type {\n",
       "        vertical-align: middle;\n",
       "    }\n",
       "\n",
       "    .dataframe tbody tr th {\n",
       "        vertical-align: top;\n",
       "    }\n",
       "\n",
       "    .dataframe thead th {\n",
       "        text-align: right;\n",
       "    }\n",
       "</style>\n",
       "<table border=\"1\" class=\"dataframe\">\n",
       "  <thead>\n",
       "    <tr style=\"text-align: right;\">\n",
       "      <th></th>\n",
       "      <th>$T\\ (K)$</th>\n",
       "      <th>$n^*(10^9cm^2)$</th>\n",
       "    </tr>\n",
       "  </thead>\n",
       "  <tbody>\n",
       "    <tr>\n",
       "      <th>0</th>\n",
       "      <td>0.247</td>\n",
       "      <td>0.000000</td>\n",
       "    </tr>\n",
       "    <tr>\n",
       "      <th>1</th>\n",
       "      <td>0.270</td>\n",
       "      <td>0.264431</td>\n",
       "    </tr>\n",
       "    <tr>\n",
       "      <th>2</th>\n",
       "      <td>0.290</td>\n",
       "      <td>0.247896</td>\n",
       "    </tr>\n",
       "    <tr>\n",
       "      <th>3</th>\n",
       "      <td>0.330</td>\n",
       "      <td>0.232262</td>\n",
       "    </tr>\n",
       "    <tr>\n",
       "      <th>4</th>\n",
       "      <td>0.379</td>\n",
       "      <td>0.233420</td>\n",
       "    </tr>\n",
       "  </tbody>\n",
       "</table>\n",
       "</div>"
      ],
      "text/plain": [
       "   $T\\ (K)$  $n^*(10^9cm^2)$\n",
       "0     0.247         0.000000\n",
       "1     0.270         0.264431\n",
       "2     0.290         0.247896\n",
       "3     0.330         0.232262\n",
       "4     0.379         0.233420"
      ]
     },
     "execution_count": 189,
     "metadata": {
      "tags": []
     },
     "output_type": "execute_result"
    }
   ],
   "source": [
    "tstr = r'$T\\ (K)$'\n",
    "nstr = r'$n^*(10^9cm^2)$'\n",
    "\n",
    "#defining our new dataset in a single line\n",
    "\n",
    "nam18reduced = ((nam18[[0, 1]]).rename(columns={0:tstr, 1 :nstr})).dropna()\n",
    "nam18reduced.head()"
   ]
  },
  {
   "cell_type": "code",
   "execution_count": 190,
   "metadata": {
    "colab": {
     "base_uri": "https://localhost:8080/",
     "height": 315
    },
    "colab_type": "code",
    "id": "O5xFpmHDpf1F",
    "outputId": "8c62131c-7c77-4fd9-b83c-a9c64517a711"
   },
   "outputs": [
    {
     "data": {
      "text/plain": [
       "Text(0.5, 1.0, 'Conduction Band Electron Density')"
      ]
     },
     "execution_count": 190,
     "metadata": {
      "tags": []
     },
     "output_type": "execute_result"
    },
    {
     "data": {
      "image/png": "[encoded data removed]",
      "text/plain": [
       "<Figure size 432x288 with 1 Axes>"
      ]
     },
     "metadata": {
      "tags": []
     },
     "output_type": "display_data"
    }
   ],
   "source": [
    "pl.scatter(nam18reduced[tstr], nam18reduced[nstr])\n",
    "pl.xlabel(tstr)\n",
    "pl.ylabel(nstr)\n",
    "pl.title('Conduction Band Electron Density')"
   ]
  },
  {
   "cell_type": "markdown",
   "metadata": {
    "colab_type": "text",
    "id": "CN4igoQmZ6Jt"
   },
   "source": [
    "**Figure 1:** The density of electrons present in the conduction band for\n",
    "various thicknesses of charge-neutral graphene multilayers. No distinction is\n",
    "made between the thicknesses of the multilayers in this plot."
   ]
  },
  {
   "cell_type": "markdown",
   "metadata": {
    "colab_type": "text",
    "id": "dVrx4G3J9m4j"
   },
   "source": [
    "# 677 and Extra Credit"
   ]
  },
  {
   "cell_type": "markdown",
   "metadata": {
    "colab_type": "text",
    "id": "xL9pNhLA7a4j"
   },
   "source": [
    "Create a function that generates a polynomial of any degree.\n",
    "\n",
    "Functions can take variable number of arguments if passed as a tuple with a * (this is a pointer. If you coded in C you know this syntax.)\n",
    "\n",
    "What I mean by that is that I can create a function as:\n"
   ]
  },
  {
   "cell_type": "code",
   "execution_count": 0,
   "metadata": {
    "colab": {},
    "colab_type": "code",
    "id": "hyOj1GBE75Sp"
   },
   "outputs": [],
   "source": [
    "def anypol(x, *coeffs):\n",
    "    \"\"\"\n",
    "    given some { x = [x1,x2,x3,x4,x5], a, b, c, d ... } anypol returns\n",
    "    a + b x + c x^2 + d x^3 + ... as an array\n",
    "\n",
    "\n",
    "    x is some array or list of values.\n",
    "\n",
    "    a, b, c, d, ... are coefficients of the polynomial in increasing degree\n",
    "    \"\"\"\n",
    "    \n",
    "    func = 0\n",
    "    for i in range(len(coeffs)):\n",
    "      \n",
    "        func += coeffs[i] * np.power(x, i)\n",
    "    return func        "
   ]
  },
  {
   "cell_type": "markdown",
   "metadata": {},
   "source": [
    "<span style=\"color:red\">**+2.5 pts: EC for the poly function, but not finish the curve_fit**</span>"
   ]
  },
  {
   "cell_type": "markdown",
   "metadata": {
    "colab_type": "text",
    "id": "WiupDvwP8uXj"
   },
   "source": [
    "So based on this create a function that takes the _x_ vector (exogenous variable) and a pointer to n coefficients. Those will be the parameters of the polynomial and it will be a list of 2 elements for a line (slope and intercept), of 3 elements for a second degree polynomial, 4 for a third etc etc. Fit this with scipy.optimize.curve_fit fitting a polynomial of 1st (line), 2nd (parabola), and 3rd degree."
   ]
  },
  {
   "cell_type": "markdown",
   "metadata": {
    "colab_type": "text",
    "id": "gTWLH0t7H5Mr"
   },
   "source": [
    "# 3 Model"
   ]
  },
  {
   "cell_type": "markdown",
   "metadata": {
    "colab_type": "text",
    "id": "U5xlNzzI_P7S"
   },
   "source": [
    "Use the statsmodels.formula.api package to run Ordinary Linear Fits (ols) and fit a line, a second degree polynomial and a third degree polynomial to the data. For each model extract the log-likelihood and print it out explicitally for each mode. How do the lof-likelihoods compare for the three models? does it make sense? explain. Just by reading the log-likelihood value can you say which model is better? Discuss\n",
    "\n",
    "Note: if you followed the instructions and renamed variables as I asked you to above, you will encounter an issue here, Although pandas know how to render the string in the plot, statsmodels has issues with parsing a complex string with characters such as \"(\" or latex inputs."
   ]
  },
  {
   "cell_type": "code",
   "execution_count": 192,
   "metadata": {
    "colab": {
     "base_uri": "https://localhost:8080/",
     "height": 441
    },
    "colab_type": "code",
    "id": "ttJVECtyUOCq",
    "outputId": "36b257dc-fcfd-4a9c-ee9d-96fe2f491434"
   },
   "outputs": [
    {
     "data": {
      "text/html": [
       "<table class=\"simpletable\">\n",
       "<caption>OLS Regression Results</caption>\n",
       "<tr>\n",
       "  <th>Dep. Variable:</th>    <td>nam18reduced[nstr]</td> <th>  R-squared:         </th> <td>   0.982</td>\n",
       "</tr>\n",
       "<tr>\n",
       "  <th>Model:</th>                    <td>OLS</td>        <th>  Adj. R-squared:    </th> <td>   0.982</td>\n",
       "</tr>\n",
       "<tr>\n",
       "  <th>Method:</th>              <td>Least Squares</td>   <th>  F-statistic:       </th> <td>   1813.</td>\n",
       "</tr>\n",
       "<tr>\n",
       "  <th>Date:</th>              <td>Wed, 23 Oct 2019</td>  <th>  Prob (F-statistic):</th> <td>2.03e-30</td>\n",
       "</tr>\n",
       "<tr>\n",
       "  <th>Time:</th>                  <td>02:50:10</td>      <th>  Log-Likelihood:    </th> <td> -78.878</td>\n",
       "</tr>\n",
       "<tr>\n",
       "  <th>No. Observations:</th>       <td>    35</td>       <th>  AIC:               </th> <td>   161.8</td>\n",
       "</tr>\n",
       "<tr>\n",
       "  <th>Df Residuals:</th>           <td>    33</td>       <th>  BIC:               </th> <td>   164.9</td>\n",
       "</tr>\n",
       "<tr>\n",
       "  <th>Df Model:</th>               <td>     1</td>       <th>                     </th>     <td> </td>   \n",
       "</tr>\n",
       "<tr>\n",
       "  <th>Covariance Type:</th>       <td>nonrobust</td>     <th>                     </th>     <td> </td>   \n",
       "</tr>\n",
       "</table>\n",
       "<table class=\"simpletable\">\n",
       "<tr>\n",
       "           <td></td>             <th>coef</th>     <th>std err</th>      <th>t</th>      <th>P>|t|</th>  <th>[0.025</th>    <th>0.975]</th>  \n",
       "</tr>\n",
       "<tr>\n",
       "  <th>Intercept</th>          <td>   -1.8884</td> <td>    0.492</td> <td>   -3.841</td> <td> 0.001</td> <td>   -2.889</td> <td>   -0.888</td>\n",
       "</tr>\n",
       "<tr>\n",
       "  <th>nam18reduced[tstr]</th> <td>    1.6176</td> <td>    0.038</td> <td>   42.577</td> <td> 0.000</td> <td>    1.540</td> <td>    1.695</td>\n",
       "</tr>\n",
       "</table>\n",
       "<table class=\"simpletable\">\n",
       "<tr>\n",
       "  <th>Omnibus:</th>       <td> 1.418</td> <th>  Durbin-Watson:     </th> <td>   0.845</td>\n",
       "</tr>\n",
       "<tr>\n",
       "  <th>Prob(Omnibus):</th> <td> 0.492</td> <th>  Jarque-Bera (JB):  </th> <td>   1.041</td>\n",
       "</tr>\n",
       "<tr>\n",
       "  <th>Skew:</th>          <td>-0.420</td> <th>  Prob(JB):          </th> <td>   0.594</td>\n",
       "</tr>\n",
       "<tr>\n",
       "  <th>Kurtosis:</th>      <td> 2.905</td> <th>  Cond. No.          </th> <td>    15.9</td>\n",
       "</tr>\n",
       "</table><br/><br/>Warnings:<br/>[1] Standard Errors assume that the covariance matrix of the errors is correctly specified."
      ],
      "text/plain": [
       "<class 'statsmodels.iolib.summary.Summary'>\n",
       "\"\"\"\n",
       "                            OLS Regression Results                            \n",
       "==============================================================================\n",
       "Dep. Variable:     nam18reduced[nstr]   R-squared:                       0.982\n",
       "Model:                            OLS   Adj. R-squared:                  0.982\n",
       "Method:                 Least Squares   F-statistic:                     1813.\n",
       "Date:                Wed, 23 Oct 2019   Prob (F-statistic):           2.03e-30\n",
       "Time:                        02:50:10   Log-Likelihood:                -78.878\n",
       "No. Observations:                  35   AIC:                             161.8\n",
       "Df Residuals:                      33   BIC:                             164.9\n",
       "Df Model:                           1                                         \n",
       "Covariance Type:            nonrobust                                         \n",
       "======================================================================================\n",
       "                         coef    std err          t      P>|t|      [0.025      0.975]\n",
       "--------------------------------------------------------------------------------------\n",
       "Intercept             -1.8884      0.492     -3.841      0.001      -2.889      -0.888\n",
       "nam18reduced[tstr]     1.6176      0.038     42.577      0.000       1.540       1.695\n",
       "==============================================================================\n",
       "Omnibus:                        1.418   Durbin-Watson:                   0.845\n",
       "Prob(Omnibus):                  0.492   Jarque-Bera (JB):                1.041\n",
       "Skew:                          -0.420   Prob(JB):                        0.594\n",
       "Kurtosis:                       2.905   Cond. No.                         15.9\n",
       "==============================================================================\n",
       "\n",
       "Warnings:\n",
       "[1] Standard Errors assume that the covariance matrix of the errors is correctly specified.\n",
       "\"\"\""
      ]
     },
     "execution_count": 192,
     "metadata": {
      "tags": []
     },
     "output_type": "execute_result"
    }
   ],
   "source": [
    "model1 = smf.ols('nam18reduced[nstr] ~ nam18reduced[tstr]', data=nam18reduced).fit()\n",
    "model1.summary()"
   ]
  },
  {
   "cell_type": "code",
   "execution_count": 193,
   "metadata": {
    "colab": {
     "base_uri": "https://localhost:8080/",
     "height": 69
    },
    "colab_type": "code",
    "id": "afVYohqtreBv",
    "outputId": "466c33d2-89b8-4798-af23-df04cd51db3e"
   },
   "outputs": [
    {
     "data": {
      "text/plain": [
       "Intercept            -1.888445\n",
       "nam18reduced[tstr]    1.617586\n",
       "dtype: float64"
      ]
     },
     "execution_count": 193,
     "metadata": {
      "tags": []
     },
     "output_type": "execute_result"
    }
   ],
   "source": [
    "model1.params"
   ]
  },
  {
   "cell_type": "code",
   "execution_count": 194,
   "metadata": {
    "colab": {
     "base_uri": "https://localhost:8080/",
     "height": 35
    },
    "colab_type": "code",
    "id": "9TjT99MKaniJ",
    "outputId": "6be8850d-3428-48ab-a636-bf09a6455d32"
   },
   "outputs": [
    {
     "data": {
      "text/plain": [
       "-78.87784843905396"
      ]
     },
     "execution_count": 194,
     "metadata": {
      "tags": []
     },
     "output_type": "execute_result"
    }
   ],
   "source": [
    "model1.llf"
   ]
  },
  {
   "cell_type": "code",
   "execution_count": 195,
   "metadata": {
    "colab": {
     "base_uri": "https://localhost:8080/",
     "height": 461
    },
    "colab_type": "code",
    "id": "q0yvmBX9aymO",
    "outputId": "f8c9c862-56b6-4b38-d885-31a889be36a7"
   },
   "outputs": [
    {
     "data": {
      "text/html": [
       "<table class=\"simpletable\">\n",
       "<caption>OLS Regression Results</caption>\n",
       "<tr>\n",
       "  <th>Dep. Variable:</th>    <td>nam18reduced[nstr]</td> <th>  R-squared:         </th> <td>   0.982</td>\n",
       "</tr>\n",
       "<tr>\n",
       "  <th>Model:</th>                    <td>OLS</td>        <th>  Adj. R-squared:    </th> <td>   0.981</td>\n",
       "</tr>\n",
       "<tr>\n",
       "  <th>Method:</th>              <td>Least Squares</td>   <th>  F-statistic:       </th> <td>   879.5</td>\n",
       "</tr>\n",
       "<tr>\n",
       "  <th>Date:</th>              <td>Wed, 23 Oct 2019</td>  <th>  Prob (F-statistic):</th> <td>1.08e-28</td>\n",
       "</tr>\n",
       "<tr>\n",
       "  <th>Time:</th>                  <td>02:50:10</td>      <th>  Log-Likelihood:    </th> <td> -78.866</td>\n",
       "</tr>\n",
       "<tr>\n",
       "  <th>No. Observations:</th>       <td>    35</td>       <th>  AIC:               </th> <td>   163.7</td>\n",
       "</tr>\n",
       "<tr>\n",
       "  <th>Df Residuals:</th>           <td>    32</td>       <th>  BIC:               </th> <td>   168.4</td>\n",
       "</tr>\n",
       "<tr>\n",
       "  <th>Df Model:</th>               <td>     2</td>       <th>                     </th>     <td> </td>   \n",
       "</tr>\n",
       "<tr>\n",
       "  <th>Covariance Type:</th>       <td>nonrobust</td>     <th>                     </th>     <td> </td>   \n",
       "</tr>\n",
       "</table>\n",
       "<table class=\"simpletable\">\n",
       "<tr>\n",
       "                 <td></td>                    <th>coef</th>     <th>std err</th>      <th>t</th>      <th>P>|t|</th>  <th>[0.025</th>    <th>0.975]</th>  \n",
       "</tr>\n",
       "<tr>\n",
       "  <th>Intercept</th>                       <td>   -1.9344</td> <td>    0.592</td> <td>   -3.266</td> <td> 0.003</td> <td>   -3.141</td> <td>   -0.728</td>\n",
       "</tr>\n",
       "<tr>\n",
       "  <th>np.power(nam18reduced[tstr], 2)</th> <td>   -0.0005</td> <td>    0.004</td> <td>   -0.144</td> <td> 0.886</td> <td>   -0.008</td> <td>    0.007</td>\n",
       "</tr>\n",
       "<tr>\n",
       "  <th>nam18reduced[tstr]</th>              <td>    1.6354</td> <td>    0.129</td> <td>   12.652</td> <td> 0.000</td> <td>    1.372</td> <td>    1.899</td>\n",
       "</tr>\n",
       "</table>\n",
       "<table class=\"simpletable\">\n",
       "<tr>\n",
       "  <th>Omnibus:</th>       <td> 1.219</td> <th>  Durbin-Watson:     </th> <td>   0.835</td>\n",
       "</tr>\n",
       "<tr>\n",
       "  <th>Prob(Omnibus):</th> <td> 0.544</td> <th>  Jarque-Bera (JB):  </th> <td>   0.984</td>\n",
       "</tr>\n",
       "<tr>\n",
       "  <th>Skew:</th>          <td>-0.399</td> <th>  Prob(JB):          </th> <td>   0.611</td>\n",
       "</tr>\n",
       "<tr>\n",
       "  <th>Kurtosis:</th>      <td> 2.809</td> <th>  Cond. No.          </th> <td>    608.</td>\n",
       "</tr>\n",
       "</table><br/><br/>Warnings:<br/>[1] Standard Errors assume that the covariance matrix of the errors is correctly specified."
      ],
      "text/plain": [
       "<class 'statsmodels.iolib.summary.Summary'>\n",
       "\"\"\"\n",
       "                            OLS Regression Results                            \n",
       "==============================================================================\n",
       "Dep. Variable:     nam18reduced[nstr]   R-squared:                       0.982\n",
       "Model:                            OLS   Adj. R-squared:                  0.981\n",
       "Method:                 Least Squares   F-statistic:                     879.5\n",
       "Date:                Wed, 23 Oct 2019   Prob (F-statistic):           1.08e-28\n",
       "Time:                        02:50:10   Log-Likelihood:                -78.866\n",
       "No. Observations:                  35   AIC:                             163.7\n",
       "Df Residuals:                      32   BIC:                             168.4\n",
       "Df Model:                           2                                         \n",
       "Covariance Type:            nonrobust                                         \n",
       "===================================================================================================\n",
       "                                      coef    std err          t      P>|t|      [0.025      0.975]\n",
       "---------------------------------------------------------------------------------------------------\n",
       "Intercept                          -1.9344      0.592     -3.266      0.003      -3.141      -0.728\n",
       "np.power(nam18reduced[tstr], 2)    -0.0005      0.004     -0.144      0.886      -0.008       0.007\n",
       "nam18reduced[tstr]                  1.6354      0.129     12.652      0.000       1.372       1.899\n",
       "==============================================================================\n",
       "Omnibus:                        1.219   Durbin-Watson:                   0.835\n",
       "Prob(Omnibus):                  0.544   Jarque-Bera (JB):                0.984\n",
       "Skew:                          -0.399   Prob(JB):                        0.611\n",
       "Kurtosis:                       2.809   Cond. No.                         608.\n",
       "==============================================================================\n",
       "\n",
       "Warnings:\n",
       "[1] Standard Errors assume that the covariance matrix of the errors is correctly specified.\n",
       "\"\"\""
      ]
     },
     "execution_count": 195,
     "metadata": {
      "tags": []
     },
     "output_type": "execute_result"
    }
   ],
   "source": [
    "model2 = smf.ols('nam18reduced[nstr] ~ np.power(nam18reduced[tstr],2) + nam18reduced[tstr]', data=nam18reduced).fit()\n",
    "model2.summary()"
   ]
  },
  {
   "cell_type": "code",
   "execution_count": 196,
   "metadata": {
    "colab": {
     "base_uri": "https://localhost:8080/",
     "height": 87
    },
    "colab_type": "code",
    "id": "fJ4btiRHc9Qd",
    "outputId": "5567e48f-aeb8-4623-e416-9005e6fc2202"
   },
   "outputs": [
    {
     "data": {
      "text/plain": [
       "Intercept                         -1.934427\n",
       "np.power(nam18reduced[tstr], 2)   -0.000520\n",
       "nam18reduced[tstr]                 1.635370\n",
       "dtype: float64"
      ]
     },
     "execution_count": 196,
     "metadata": {
      "tags": []
     },
     "output_type": "execute_result"
    }
   ],
   "source": [
    "model2.params"
   ]
  },
  {
   "cell_type": "code",
   "execution_count": 197,
   "metadata": {
    "colab": {
     "base_uri": "https://localhost:8080/",
     "height": 517
    },
    "colab_type": "code",
    "id": "nPtQD8o9bt8v",
    "outputId": "3373d4c1-a4b8-4563-a1ac-5fe1b35a06cb"
   },
   "outputs": [
    {
     "data": {
      "text/html": [
       "<table class=\"simpletable\">\n",
       "<caption>OLS Regression Results</caption>\n",
       "<tr>\n",
       "  <th>Dep. Variable:</th>    <td>nam18reduced[nstr]</td> <th>  R-squared:         </th> <td>   0.993</td>\n",
       "</tr>\n",
       "<tr>\n",
       "  <th>Model:</th>                    <td>OLS</td>        <th>  Adj. R-squared:    </th> <td>   0.992</td>\n",
       "</tr>\n",
       "<tr>\n",
       "  <th>Method:</th>              <td>Least Squares</td>   <th>  F-statistic:       </th> <td>   1433.</td>\n",
       "</tr>\n",
       "<tr>\n",
       "  <th>Date:</th>              <td>Wed, 23 Oct 2019</td>  <th>  Prob (F-statistic):</th> <td>2.54e-33</td>\n",
       "</tr>\n",
       "<tr>\n",
       "  <th>Time:</th>                  <td>02:50:10</td>      <th>  Log-Likelihood:    </th> <td> -62.858</td>\n",
       "</tr>\n",
       "<tr>\n",
       "  <th>No. Observations:</th>       <td>    35</td>       <th>  AIC:               </th> <td>   133.7</td>\n",
       "</tr>\n",
       "<tr>\n",
       "  <th>Df Residuals:</th>           <td>    31</td>       <th>  BIC:               </th> <td>   139.9</td>\n",
       "</tr>\n",
       "<tr>\n",
       "  <th>Df Model:</th>               <td>     3</td>       <th>                     </th>     <td> </td>   \n",
       "</tr>\n",
       "<tr>\n",
       "  <th>Covariance Type:</th>       <td>nonrobust</td>     <th>                     </th>     <td> </td>   \n",
       "</tr>\n",
       "</table>\n",
       "<table class=\"simpletable\">\n",
       "<tr>\n",
       "                 <td></td>                    <th>coef</th>     <th>std err</th>      <th>t</th>      <th>P>|t|</th>  <th>[0.025</th>    <th>0.975]</th>  \n",
       "</tr>\n",
       "<tr>\n",
       "  <th>Intercept</th>                       <td>   -0.4186</td> <td>    0.441</td> <td>   -0.949</td> <td> 0.350</td> <td>   -1.318</td> <td>    0.481</td>\n",
       "</tr>\n",
       "<tr>\n",
       "  <th>np.power(nam18reduced[tstr], 3)</th> <td>   -0.0015</td> <td>    0.000</td> <td>   -6.811</td> <td> 0.000</td> <td>   -0.002</td> <td>   -0.001</td>\n",
       "</tr>\n",
       "<tr>\n",
       "  <th>np.power(nam18reduced[tstr], 2)</th> <td>    0.0827</td> <td>    0.012</td> <td>    6.649</td> <td> 0.000</td> <td>    0.057</td> <td>    0.108</td>\n",
       "</tr>\n",
       "<tr>\n",
       "  <th>nam18reduced[tstr]</th>              <td>    0.5900</td> <td>    0.175</td> <td>    3.380</td> <td> 0.002</td> <td>    0.234</td> <td>    0.946</td>\n",
       "</tr>\n",
       "</table>\n",
       "<table class=\"simpletable\">\n",
       "<tr>\n",
       "  <th>Omnibus:</th>       <td> 3.084</td> <th>  Durbin-Watson:     </th> <td>   1.326</td>\n",
       "</tr>\n",
       "<tr>\n",
       "  <th>Prob(Omnibus):</th> <td> 0.214</td> <th>  Jarque-Bera (JB):  </th> <td>   1.813</td>\n",
       "</tr>\n",
       "<tr>\n",
       "  <th>Skew:</th>          <td>-0.397</td> <th>  Prob(JB):          </th> <td>   0.404</td>\n",
       "</tr>\n",
       "<tr>\n",
       "  <th>Kurtosis:</th>      <td> 3.784</td> <th>  Cond. No.          </th> <td>2.64e+04</td>\n",
       "</tr>\n",
       "</table><br/><br/>Warnings:<br/>[1] Standard Errors assume that the covariance matrix of the errors is correctly specified.<br/>[2] The condition number is large, 2.64e+04. This might indicate that there are<br/>strong multicollinearity or other numerical problems."
      ],
      "text/plain": [
       "<class 'statsmodels.iolib.summary.Summary'>\n",
       "\"\"\"\n",
       "                            OLS Regression Results                            \n",
       "==============================================================================\n",
       "Dep. Variable:     nam18reduced[nstr]   R-squared:                       0.993\n",
       "Model:                            OLS   Adj. R-squared:                  0.992\n",
       "Method:                 Least Squares   F-statistic:                     1433.\n",
       "Date:                Wed, 23 Oct 2019   Prob (F-statistic):           2.54e-33\n",
       "Time:                        02:50:10   Log-Likelihood:                -62.858\n",
       "No. Observations:                  35   AIC:                             133.7\n",
       "Df Residuals:                      31   BIC:                             139.9\n",
       "Df Model:                           3                                         \n",
       "Covariance Type:            nonrobust                                         \n",
       "===================================================================================================\n",
       "                                      coef    std err          t      P>|t|      [0.025      0.975]\n",
       "---------------------------------------------------------------------------------------------------\n",
       "Intercept                          -0.4186      0.441     -0.949      0.350      -1.318       0.481\n",
       "np.power(nam18reduced[tstr], 3)    -0.0015      0.000     -6.811      0.000      -0.002      -0.001\n",
       "np.power(nam18reduced[tstr], 2)     0.0827      0.012      6.649      0.000       0.057       0.108\n",
       "nam18reduced[tstr]                  0.5900      0.175      3.380      0.002       0.234       0.946\n",
       "==============================================================================\n",
       "Omnibus:                        3.084   Durbin-Watson:                   1.326\n",
       "Prob(Omnibus):                  0.214   Jarque-Bera (JB):                1.813\n",
       "Skew:                          -0.397   Prob(JB):                        0.404\n",
       "Kurtosis:                       3.784   Cond. No.                     2.64e+04\n",
       "==============================================================================\n",
       "\n",
       "Warnings:\n",
       "[1] Standard Errors assume that the covariance matrix of the errors is correctly specified.\n",
       "[2] The condition number is large, 2.64e+04. This might indicate that there are\n",
       "strong multicollinearity or other numerical problems.\n",
       "\"\"\""
      ]
     },
     "execution_count": 197,
     "metadata": {
      "tags": []
     },
     "output_type": "execute_result"
    }
   ],
   "source": [
    "model3 = smf.ols('nam18reduced[nstr] ~ np.power(nam18reduced[tstr],3) +np.power(nam18reduced[tstr],2) + nam18reduced[tstr]', data=nam18reduced).fit()\n",
    "model3.summary()"
   ]
  },
  {
   "cell_type": "code",
   "execution_count": 198,
   "metadata": {
    "colab": {
     "base_uri": "https://localhost:8080/",
     "height": 104
    },
    "colab_type": "code",
    "id": "ALO-_NJNSIWd",
    "outputId": "d5cf40a2-fceb-4a51-c4ac-d6253a211c21"
   },
   "outputs": [
    {
     "data": {
      "text/plain": [
       "Intercept                         -0.418619\n",
       "np.power(nam18reduced[tstr], 3)   -0.001506\n",
       "np.power(nam18reduced[tstr], 2)    0.082687\n",
       "nam18reduced[tstr]                 0.589994\n",
       "dtype: float64"
      ]
     },
     "execution_count": 198,
     "metadata": {
      "tags": []
     },
     "output_type": "execute_result"
    }
   ],
   "source": [
    "model3.params"
   ]
  },
  {
   "cell_type": "code",
   "execution_count": 199,
   "metadata": {
    "colab": {
     "base_uri": "https://localhost:8080/",
     "height": 69
    },
    "colab_type": "code",
    "id": "loo5Gxi8NSgn",
    "outputId": "3b0c8690-266d-4c6d-b142-be2176c37aaf"
   },
   "outputs": [
    {
     "name": "stdout",
     "output_type": "stream",
     "text": [
      "The linear model's log-likelihood:\t-78.87785\n",
      "The quadratic model's log-likelihood:\t-78.86649\n",
      "The cubic model's log-likelihood:\t-62.85756\n"
     ]
    }
   ],
   "source": [
    "print(\"The linear model's log-likelihood:\\t{:0.5f}\".format(model1.llf))\n",
    "print(\"The quadratic model's log-likelihood:\\t{:0.5f}\".format(model2.llf))\n",
    "print(\"The cubic model's log-likelihood:\\t{:0.5f}\".format(model3.llf))"
   ]
  },
  {
   "cell_type": "markdown",
   "metadata": {
    "colab_type": "text",
    "id": "qEbpUunfCUX8"
   },
   "source": [
    "# 4 plot the three models over the data. Use the polynomial function you created in the 667/EC if you did. \n",
    "Make sure you create a new x vector that samples densely the range spanned by the temperature variabla in your data, or your models, which should be plotted with lines, will look broken-up"
   ]
  },
  {
   "cell_type": "code",
   "execution_count": 0,
   "metadata": {
    "colab": {},
    "colab_type": "code",
    "id": "nSt2xbSAhWBr"
   },
   "outputs": [],
   "source": [
    "#defining our linear, cuadratic and cubic fits to plot them \n",
    "lopt, lcov = sp.optimize.curve_fit(anypol, nam18reduced[tstr], nam18reduced[nstr], p0=[1,1])\n",
    "qopt, qcov = sp.optimize.curve_fit(anypol, nam18reduced[tstr], nam18reduced[nstr], p0=[1,1,1])\n",
    "copt, ccov = sp.optimize.curve_fit(anypol, nam18reduced[tstr], nam18reduced[nstr], p0=[1,1,1,1])"
   ]
  },
  {
   "cell_type": "code",
   "execution_count": 201,
   "metadata": {
    "colab": {
     "base_uri": "https://localhost:8080/",
     "height": 637
    },
    "colab_type": "code",
    "id": "mjMcUFOyPRp9",
    "outputId": "086c6698-47ed-4779-f3a2-85936d033ad2"
   },
   "outputs": [
    {
     "data": {
      "text/plain": [
       "Text(0.5, 0, '$T\\\\ (K)$')"
      ]
     },
     "execution_count": 201,
     "metadata": {
      "tags": []
     },
     "output_type": "execute_result"
    },
    {
     "data": {
      "image/png": "[encoded data removed]",
      "text/plain": [
       "<Figure size 1080x648 with 2 Axes>"
      ]
     },
     "metadata": {
      "tags": []
     },
     "output_type": "display_data"
    }
   ],
   "source": [
    "xarr = np.arange(0, 40, 0.5)\n",
    "\n",
    "pl.figure(figsize=(15, 9))\n",
    "pl.suptitle('Comparison of the three models', fontsize=20)\n",
    "\n",
    "pl.subplot(121)\n",
    "pl.plot(nam18reduced[tstr] , nam18reduced[nstr], '.', ms=12, label = nstr)\n",
    "pl.plot(xarr, anypol(xarr, *lopt), c='k', label = 'Linear Fit')\n",
    "pl.plot(xarr, anypol(xarr, *qopt), c='C3', label = 'Quadratic Fit')\n",
    "pl.plot(xarr, anypol(xarr, *copt), c='C2', label = 'Cubic Fit')\n",
    "pl.legend()\n",
    "pl.ylabel(nstr)\n",
    "pl.xlabel(tstr)\n",
    "\n",
    "\n",
    "pl.subplot(122)\n",
    "pl.plot(nam18reduced[tstr] , nam18reduced[nstr], '.', ms=12, label = nstr)\n",
    "pl.plot(xarr, anypol(xarr, *lopt), c='k', label =  'Linear Fit')\n",
    "pl.plot(xarr, anypol(xarr, *qopt), c='C3', label = 'Quadratic Fit')\n",
    "pl.plot(xarr, anypol(xarr, *copt), c='C2', label = 'Cubic Fit')\n",
    "pl.xlim(0,2)\n",
    "pl.ylim(-.1,1)\n",
    "pl.legend()\n",
    "pl.ylabel(nstr)\n",
    "pl.xlabel(tstr)\n"
   ]
  },
  {
   "cell_type": "markdown",
   "metadata": {
    "colab_type": "text",
    "id": "QUq5Q9U2eycI"
   },
   "source": [
    "**Figure 2:** The graph shows our three different models on the same plot for the data shown in Figure 1. The plot on the left shows the full dataset, while the plot on the right shows just a selected region of the left plot in order to distinguish between the linear and quadratic fits."
   ]
  },
  {
   "cell_type": "markdown",
   "metadata": {
    "colab_type": "text",
    "id": "DGFhdzgDyhIR"
   },
   "source": [
    "# 5 *formally* compare the models with a test that returns a p-value assessment (NHRT) to determine which model is best. Sort the models from the best one to the worse one."
   ]
  },
  {
   "cell_type": "markdown",
   "metadata": {
    "colab_type": "text",
    "id": "VR1j7mLnrw74"
   },
   "source": [
    "Taking as our null-hypothesis that **'The simpler model is more accurate'**, testing at a confidence level of $p < 0.05$ with a Likelihood-Ratio Test, we find the following:"
   ]
  },
  {
   "cell_type": "code",
   "execution_count": 202,
   "metadata": {
    "colab": {
     "base_uri": "https://localhost:8080/",
     "height": 87
    },
    "colab_type": "code",
    "id": "HNxIACnBV80z",
    "outputId": "2b00cc00-4bd7-4516-9a1e-6e2118ef0559"
   },
   "outputs": [
    {
     "name": "stdout",
     "output_type": "stream",
     "text": [
      "model degrees, \t Likelihood Ratio, \t p-value, \t Difference in degrees of freedom\n",
      "2 & 3:\t\t (32.01784952536279, 1.5276246887173018e-08, 1.0) \n",
      "1 & 3:\t\t (32.04057153068926, 1.1027531159466854e-07, 2.0) \n",
      "1 & 2:\t\t (0.022722005326471617, 0.8801822372588882, 1.0)\n"
     ]
    }
   ],
   "source": [
    "lr_3to2 = model3.compare_lr_test(model2)\n",
    "lr_3to1 = model3.compare_lr_test(model1)\n",
    "lr_2to1 = model2.compare_lr_test(model1)\n",
    "\n",
    "print('model degrees, \\t Likelihood Ratio, \\t p-value, \\t Difference in degrees of freedom')\n",
    "print('2 & 3:\\t\\t', lr_3to2, '\\n1 & 3:\\t\\t', lr_3to1, '\\n1 & 2:\\t\\t', lr_2to1)"
   ]
  },
  {
   "cell_type": "markdown",
   "metadata": {
    "colab_type": "text",
    "id": "b7UsDjYtuD3Q"
   },
   "source": [
    "Comparing the cubic fit to both the quadratic and linear fits, we find p-values lower than $10^{-7}$. Therefore, for the cubic fit, we reject the null-hypothesis and find that the cubic fit is the best for our data. Comparing the linear to the quadratic fit, there is not enough evidence to reject the null hypothesis ($p\\sim 0.88$), so we find no evidence that the quadratic fit is better than the linear fit.\n",
    "\n",
    "Ranking the three fits from best to worst:\n",
    " \n",
    "1. Cubic fit\n",
    "2. Linear fit\n",
    "3. Quadratic fit\n",
    "\n"
   ]
  },
  {
   "cell_type": "markdown",
   "metadata": {
    "colab_type": "text",
    "id": "6wLSOjS2Ddpf"
   },
   "source": [
    "### Install emcee"
   ]
  },
  {
   "cell_type": "code",
   "execution_count": 203,
   "metadata": {
    "colab": {
     "base_uri": "https://localhost:8080/",
     "height": 52
    },
    "colab_type": "code",
    "id": "9-CdeZvv1A_3",
    "outputId": "b81891df-9940-4153-a9a0-c51552c4c0b9"
   },
   "outputs": [
    {
     "name": "stdout",
     "output_type": "stream",
     "text": [
      "Requirement already satisfied: emcee in /usr/local/lib/python3.6/dist-packages (3.0.0)\n",
      "Requirement already satisfied: numpy in /usr/local/lib/python3.6/dist-packages (from emcee) (1.16.5)\n"
     ]
    }
   ],
   "source": [
    "!pip install emcee"
   ]
  }
 ],
 "metadata": {
  "colab": {
   "collapsed_sections": [],
   "include_colab_link": true,
   "name": "HW7VRAMIREZLPart1.ipynb",
   "provenance": []
  },
  "kernelspec": {
   "display_name": "Python 3",
   "language": "python",
   "name": "python3"
  },
  "language_info": {
   "codemirror_mode": {
    "name": "ipython",
    "version": 3
   },
   "file_extension": ".py",
   "mimetype": "text/x-python",
   "name": "python",
   "nbconvert_exporter": "python",
   "pygments_lexer": "ipython3",
   "version": "3.6.8"
  }
 },
 "nbformat": 4,
 "nbformat_minor": 1
}
